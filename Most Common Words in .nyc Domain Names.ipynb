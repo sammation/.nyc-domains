{
 "cells": [
  {
   "cell_type": "code",
   "execution_count": 33,
   "metadata": {},
   "outputs": [],
   "source": [
    "from numpy.random import choice\n",
    "from WikipediaWordCounter import WikipediaWordCounter \n",
    "from collections import Counter\n",
    "from string import digits, punctuation\n",
    "import matplotlib.pyplot as plt\n",
    "import json"
   ]
  },
  {
   "cell_type": "markdown",
   "metadata": {},
   "source": [
    "# Most Common Words in `.nyc` Domain Names"
   ]
  },
  {
   "cell_type": "markdown",
   "metadata": {},
   "source": [
    "Having a memorable url is important. One of the most memorable top level domains is `.nyc`, administered by New York City. [New York Open Data](https://opendata.cityofnewyork.us/) has a list of all the registered `.nyc` domains. What are the most common words in a `.nyc` url? "
   ]
  },
  {
   "cell_type": "markdown",
   "metadata": {},
   "source": [
    "## Data Preparation "
   ]
  },
  {
   "cell_type": "markdown",
   "metadata": {},
   "source": [
    "First, we should take a look at the data. "
   ]
  },
  {
   "cell_type": "code",
   "execution_count": 16,
   "metadata": {},
   "outputs": [
    {
     "name": "stdout",
     "output_type": "stream",
     "text": [
      "Domain Name ,Domain Registration Date ,Nexus Category\n",
      "000.nyc,12/27/2016 05:01:47 AM,ORG\n",
      "001.nyc,12/23/2015 05:41:17 PM,INDIV\n",
      "007names.nyc,10/08/2014 03:48:29 PM,INDIV\n"
     ]
    }
   ],
   "source": [
    "with open(\"nyc_Domain_Registrations.csv\") as infile: \n",
    "    raw_data = infile.read().split('\\n') \n",
    "for line in raw_data[:4]:\n",
    "    print(line) "
   ]
  },
  {
   "cell_type": "markdown",
   "metadata": {},
   "source": [
    "Looks like it's formatted well enough, let's grab all the domain names. While we're at it, we'll also remove any numbers or punctuation from the url. After all, it's words we're interested in. "
   ]
  },
  {
   "cell_type": "code",
   "execution_count": 17,
   "metadata": {},
   "outputs": [
    {
     "name": "stdout",
     "output_type": "stream",
     "text": [
      "abcdef\n"
     ]
    }
   ],
   "source": [
    "remove_digits_translation_table = str.maketrans('', '', digits + punctuation)\n",
    "def remove_digits(s): \n",
    "    return s.translate(remove_digits_translation_table)\n",
    "print(remove_digits(\"123abc456def\"))"
   ]
  },
  {
   "cell_type": "markdown",
   "metadata": {},
   "source": [
    "Let's look at a few random ones. "
   ]
  },
  {
   "cell_type": "code",
   "execution_count": 18,
   "metadata": {},
   "outputs": [
    {
     "name": "stdout",
     "output_type": "stream",
     "text": [
      "vernissage\n",
      "theluxurycollection\n",
      "lfn\n",
      "weedclub\n",
      "hospitalityconsulting\n",
      "hashish\n",
      "umkd\n"
     ]
    }
   ],
   "source": [
    "domain_names = [remove_digits(line.split(',')[0][:-4]) for line in raw_data][1:]\n",
    "for domain_name in choice(domain_names, 7, replace = False):\n",
    "    print(domain_name)"
   ]
  },
  {
   "cell_type": "markdown",
   "metadata": {},
   "source": [
    "Immediately we notice that many urls are comprised of more than one word concatenated together. Ideally we'd like to count each word in the url. For example, we'd like to count `morninginsider` as `[morning, insider]`. How can we split up a continuous string of letters into words? We can do it using dynamic programming! For each string, we'll consider all possible splits of the string and take the one that is most likely. "
   ]
  },
  {
   "cell_type": "markdown",
   "metadata": {},
   "source": [
    "## Finding Word Frequency\n",
    "\n",
    "How do we measure which string split is most likely? For that, we can find the relative frequency of words by examining some corpus. The corpus is an important decision. There are many choices: a year's worth of Google searches, all the words in the Library of Congress, all of your email from last year. Since we're taking a look at `.nyc` domains, we want to make sure that `manhattanbeach` is split into `[manhattan, beach]` and not `[man, hat, tan, beach]`. So let's use NYC related Wikipedia articles as our corpus. \n",
    "\n",
    "I wrote a small class to do just that. WikipediaWordCounter will count the frequency of words on Wikipedia pages. It starts with the seed term, in this case `New York City`, and then proceeds to recursively visit random links from its current page, counting the words on each page. It does so until a predefined depth and makes sure to never count the same page twice. "
   ]
  },
  {
   "cell_type": "code",
   "execution_count": 6,
   "metadata": {},
   "outputs": [
    {
     "name": "stdout",
     "output_type": "stream",
     "text": [
      "scraping New York City\n",
      "scraping North Atlantic Division\n",
      "scraping Division (military)\n",
      "scraping U.S. Army Corps of Engineers\n",
      "scraping Fort Hamilton\n",
      "scraping Nuclear bomb\n",
      "scraping Brooklyn, New York\n",
      "scraping Copenhagen\n",
      "scraping Special Operations Executive\n",
      "scraping Parks and open spaces in Copenhagen\n",
      "scraping London\n",
      "scraping Kdam Eurovision\n",
      "scraping Roskilde Fjord\n",
      "scraping Wayne R. Dynes\n",
      "scraping Stonewall Uprising\n",
      "scraping WorldCat\n",
      "scraping Système universitaire de documentation\n",
      "scraping Stavelot Bible\n",
      "scraping Cato Institute\n",
      "scraping Bronx Zoo\n",
      "scraping Corporal Thompson Park\n",
      "scraping Green Central Knoll\n",
      "scraping Snow White and the Seven Dwarfs (1937 film)\n",
      "scraping Green junglefowl\n",
      "scraping Nubian ibex\n",
      "scraping Education in New York City\n",
      "scraping Loyola School (New York)\n",
      "scraping Bibliothèque nationale de France\n",
      "scraping Pelham Bay Park\n",
      "scraping George Sand\n",
      "scraping List of New York City gardens\n"
     ]
    }
   ],
   "source": [
    "wwc = WikipediaWordCounter(\"New York City\", depth = 3, num_links = 5)\n",
    "wwc.run()\n",
    "wwc.save() "
   ]
  },
  {
   "cell_type": "code",
   "execution_count": 8,
   "metadata": {},
   "outputs": [],
   "source": [
    "nyc_wiki_word_counts = wwc.get_wc() \n",
    "len_longest_word = max(len(word) for word in nyc_wiki_word_counts)"
   ]
  },
  {
   "cell_type": "markdown",
   "metadata": {},
   "source": [
    "Let's take a quick look at the distribution of word frequency over these Wikipedia Pages. "
   ]
  },
  {
   "cell_type": "code",
   "execution_count": 32,
   "metadata": {},
   "outputs": [
    {
     "data": {
      "image/png": "[encoded data removed]",
      "text/plain": [
       "<matplotlib.figure.Figure at 0x27354b46b38>"
      ]
     },
     "metadata": {},
     "output_type": "display_data"
    }
   ],
   "source": [
    "plt.plot([(val) for _, val in nyc_wiki_word_counts.most_common(50)])\n",
    "plt.title(\"Frequencies of Words in NYC Related Wikipedia Pages\")\n",
    "plt.xlabel(\"Rank\")\n",
    "plt.ylabel(\"Frequency\")\n",
    "plt.show()"
   ]
  },
  {
   "cell_type": "markdown",
   "metadata": {},
   "source": [
    "The frequencies look to approximately follow [Zipf's Law](https://en.wikipedia.org/wiki/Zipf%27s_law). That is, the rank and frequency are inversely related. \n",
    "\n",
    "## Inferring Spaces\n",
    "\n",
    "To determine which split is most likely, we'll take the split with the smallest total cost. We'll need a mapping from each word to its cost. More common words should cost less than less common words. We can use the inverse relative frequency. "
   ]
  },
  {
   "cell_type": "code",
   "execution_count": 14,
   "metadata": {},
   "outputs": [],
   "source": [
    "word_cost = dict((word, sum(nyc_wiki_word_counts.values())/count) for word, count in nyc_wiki_word_counts.items())\n",
    "def infer_spaces(s): \n",
    "    \n",
    "    def best_match(i): \n",
    "        candidates = enumerate(reversed(cost[max(0, i-len_longest_word):i]))\n",
    "        return min((c + word_cost.get(s[i-k-1:i], 9e999), k+1) for k,c in candidates)\n",
    "    \n",
    "    cost = [0]\n",
    "    for i in range(1, len(s) + 1): \n",
    "        c, k = best_match(i) \n",
    "        cost.append(c) \n",
    "        \n",
    "    out = [] \n",
    "    i = len(s) \n",
    "    while i > 0: \n",
    "        c, k = best_match(i) \n",
    "        assert c == cost[i]\n",
    "        out.append(s[i-k:i]) \n",
    "        i -= k\n",
    "    \n",
    "    return [i for i in reversed(out)]"
   ]
  },
  {
   "cell_type": "markdown",
   "metadata": {},
   "source": [
    "The above function was shamelessly stolen from [StackOverflow](https://stackoverflow.com/a/11642687). \n",
    "\n",
    "How well does it do? "
   ]
  },
  {
   "cell_type": "code",
   "execution_count": 13,
   "metadata": {},
   "outputs": [
    {
     "name": "stdout",
     "output_type": "stream",
     "text": [
      "['the', 'quick', 'brown', 'fox', 'jumped', 'over', 'the', 'lazy', 'dog']\n",
      "['manhattan', 'beach']\n"
     ]
    }
   ],
   "source": [
    "print(infer_spaces(\"thequickbrownfoxjumpedoverthelazydog\"))\n",
    "print(infer_spaces(\"manhattanbeach\"))"
   ]
  },
  {
   "cell_type": "markdown",
   "metadata": {},
   "source": [
    "Pretty well, I'd say. And it's fast and lightweight - linear in time and memory. \n",
    "\n",
    "## Most common words \n",
    "\n",
    "Now all that's left to do is split each domain name into its likely constituent words."
   ]
  },
  {
   "cell_type": "code",
   "execution_count": 19,
   "metadata": {},
   "outputs": [
    {
     "data": {
      "text/plain": [
       "[('a', 21237),\n",
       " ('r', 19411),\n",
       " ('e', 17664),\n",
       " ('s', 17078),\n",
       " ('i', 14701),\n",
       " ('c', 13110),\n",
       " ('t', 10955),\n",
       " ('m', 10678),\n",
       " ('l', 10589),\n",
       " ('n', 7547)]"
      ]
     },
     "execution_count": 19,
     "metadata": {},
     "output_type": "execute_result"
    }
   ],
   "source": [
    "domain_wc = Counter() \n",
    "for domain_name in domain_names: \n",
    "    if domain_name: \n",
    "        domain_wc.update(infer_spaces(domain_name))\n",
    "\n",
    "[(word, freq) for word, freq in domain_wc.most_common(10)]"
   ]
  },
  {
   "cell_type": "markdown",
   "metadata": {},
   "source": [
    "The most frequent \"words\" in a url are individual letters. What about word's longer than two characters? "
   ]
  },
  {
   "cell_type": "code",
   "execution_count": 25,
   "metadata": {},
   "outputs": [
    {
     "name": "stdout",
     "output_type": "stream",
     "text": [
      "the\t2121\n",
      "and\t1115\n",
      "art\t915\n",
      "nyc\t818\n",
      "new\t801\n",
      "york\t591\n",
      "one\t572\n",
      "are\t554\n",
      "brooklyn\t524\n",
      "city\t508\n",
      "men\t489\n",
      "for\t486\n",
      "age\t484\n",
      "all\t474\n",
      "real\t473\n",
      "car\t471\n",
      "her\t410\n",
      "law\t405\n",
      "park\t394\n",
      "group\t381\n",
      "per\t376\n",
      "our\t365\n",
      "home\t363\n",
      "design\t342\n",
      "air\t307\n",
      "tech\t302\n",
      "house\t285\n",
      "manhattan\t282\n",
      "you\t274\n",
      "hotel\t259\n",
      "street\t257\n",
      "life\t255\n"
     ]
    }
   ],
   "source": [
    "for word, freq in domain_wc.most_common(100):\n",
    "    if len(word) > 2: \n",
    "        print(word + '\\t' + str(freq))"
   ]
  },
  {
   "cell_type": "markdown",
   "metadata": {},
   "source": [
    "This wouldn't be a proper NLP post if `the` and `and` weren't at the top of a word frequency list. Surprisingly `brooklyn` comes out ahead over `manhattan`. Unsurprisingly, `.nyc` is very artsy, with `art` coming in third. `law`, `tech`, and housing terms show what else is important to `.nyc` domain holders."
   ]
  },
  {
   "cell_type": "code",
   "execution_count": 36,
   "metadata": {},
   "outputs": [],
   "source": [
    "data = {\"meta\":\n",
    "           {\"title\":\".nyc domain names word frequency\"}, \n",
    "        \"data\":domain_wc}\n",
    "with open('nyc_domains_wc.json','w') as outfile: \n",
    "    json.dump(data, outfile, indent=2)"
   ]
  },
  {
   "cell_type": "code",
   "execution_count": null,
   "metadata": {},
   "outputs": [],
   "source": []
  }
 ],
 "metadata": {
  "kernelspec": {
   "display_name": "Python 3",
   "language": "python",
   "name": "python3"
  },
  "language_info": {
   "codemirror_mode": {
    "name": "ipython",
    "version": 3
   },
   "file_extension": ".py",
   "mimetype": "text/x-python",
   "name": "python",
   "nbconvert_exporter": "python",
   "pygments_lexer": "ipython3",
   "version": "3.6.4"
  }
 },
 "nbformat": 4,
 "nbformat_minor": 2
}
